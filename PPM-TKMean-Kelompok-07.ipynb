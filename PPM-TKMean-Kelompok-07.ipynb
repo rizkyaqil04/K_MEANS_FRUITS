{
 "cells": [
  {
   "cell_type": "code",
   "execution_count": 1,
   "metadata": {},
   "outputs": [],
   "source": [
    "import cv2\n",
    "from PIL import Image\n",
    "import os\n",
    "import glob\n",
    "import copy\n",
    "import numpy as np\n",
    "import matplotlib.pyplot as plt\n",
    "from random import randint"
   ]
  },
  {
   "cell_type": "markdown",
   "metadata": {},
   "source": [
    "## FUNGSI KMEANS"
   ]
  },
  {
   "cell_type": "code",
   "execution_count": 2,
   "metadata": {},
   "outputs": [],
   "source": [
    "def euclidian(data1, data2):\n",
    "  jarak = np.square(data1 - data2)\n",
    "  jarak = np.sum(jarak)\n",
    "  return np.sqrt(jarak)"
   ]
  },
  {
   "cell_type": "code",
   "execution_count": 3,
   "metadata": {},
   "outputs": [],
   "source": [
    "def kmeans(data_input, k, iter_max=200):\n",
    "    n_data = data_input.shape[0]\n",
    "    n_fitur = data_input.shape[1]\n",
    "    iter = 1\n",
    "    cluster = np.array([randint(0, k-1) for _ in range(n_data)])\n",
    "    centroid = np.zeros((k, n_fitur))\n",
    "    cluster_tidak_berubah = False\n",
    "    \n",
    "    while not cluster_tidak_berubah and iter < iter_max:\n",
    "        jarak = np.zeros((n_data, k))\n",
    "        for i in range(k):\n",
    "            if np.any(cluster == i):\n",
    "                centroid[i, :] = data_input[np.where(cluster == i)[0]].mean(axis=0)\n",
    "            else:\n",
    "                # Handle empty clusters by reinitializing the centroid randomly\n",
    "                centroid[i, :] = data_input[randint(0, n_data - 1)]\n",
    "        \n",
    "        for i in range(n_data):\n",
    "            for j in range(k):\n",
    "                jarak[i][j] = euclidian(data_input[i], centroid[j])\n",
    "        \n",
    "        cluster_baru = [np.argmin(jarak[i]) for i in range(n_data)]\n",
    "        cluster_tidak_berubah = np.array_equal(cluster_baru, cluster)\n",
    "        cluster = np.array(copy.deepcopy(cluster_baru))\n",
    "        iter += 1\n",
    "        \n",
    "    return cluster, centroid"
   ]
  },
  {
   "cell_type": "markdown",
   "metadata": {},
   "source": [
    "## FUNGSI ELBOW"
   ]
  },
  {
   "cell_type": "code",
   "execution_count": 4,
   "metadata": {},
   "outputs": [],
   "source": [
    "def hitung_ssd(data_input, cluster, centroid):\n",
    "    ssd = 0\n",
    "    for i in range(len(data_input)):\n",
    "        ssd += euclidian(data_input[i], centroid[cluster[i]]) ** 2\n",
    "    return ssd"
   ]
  },
  {
   "cell_type": "code",
   "execution_count": 5,
   "metadata": {},
   "outputs": [],
   "source": [
    "def elbow(data_input, max_k):\n",
    "    ssds = []\n",
    "    for k in range(1, max_k+1):\n",
    "        cluster, centroid = kmeans(data_input, k)\n",
    "        ssd = hitung_ssd(data_input, cluster, centroid)\n",
    "        ssds.append(ssd)\n",
    "        print(f\"K: {k}, SSD: {ssd}\")\n",
    "    \n",
    "    plt.plot(range(1, max_k+1), ssds, 'bx-')\n",
    "    plt.xlabel('Number of clusters K')\n",
    "    plt.ylabel('Sum of squared distances')\n",
    "    plt.title('Elbow Method For Optimal K')\n",
    "    plt.show()"
   ]
  },
  {
   "cell_type": "markdown",
   "metadata": {},
   "source": [
    "# IMPLEMENTASI KMEANS"
   ]
  },
  {
   "cell_type": "code",
   "execution_count": 6,
   "metadata": {},
   "outputs": [],
   "source": [
    "def proses_gambar(gambar, direktori_asli, direktori_kluster, K):\n",
    "    gambar_asli_path = os.path.join(direktori_asli, os.path.basename(gambar))\n",
    "    gambar_kluster_path = os.path.join(direktori_kluster, os.path.basename(gambar))\n",
    "    \n",
    "    gambar = cv2.imread(gambar)\n",
    "    gambar_lab = cv2.cvtColor(gambar, cv2.COLOR_BGR2LAB)\n",
    "    data_gambar = gambar_lab.reshape((-1, 3))\n",
    "\n",
    "    cluster, centroid = kmeans(data_gambar, K)\n",
    "\n",
    "    gambar_cluster = centroid[cluster].reshape(gambar.shape)\n",
    "    gambar_cluster = gambar_cluster.astype(np.uint8)\n",
    "    gambar_cluster = cv2.cvtColor(gambar_cluster, cv2.COLOR_LAB2BGR)\n",
    "\n",
    "    # Simpan gambar asli\n",
    "    cv2.imwrite(gambar_asli_path, gambar)\n",
    "\n",
    "    # Simpan gambar cluster\n",
    "    cv2.imwrite(gambar_kluster_path, gambar_cluster)"
   ]
  },
  {
   "cell_type": "code",
   "execution_count": 9,
   "metadata": {},
   "outputs": [],
   "source": [
    "def proses_gambar(gambar, K):\n",
    "    gambar = cv2.imread(gambar)\n",
    "    gambar_lab = cv2.cvtColor(gambar, cv2.COLOR_BGR2LAB)\n",
    "    data_gambar = gambar_lab.reshape((-1, 3))\n",
    "    print(data_gambar)\n",
    "\n",
    "    cluster, centroid = kmeans(data_gambar, K)\n",
    "    \n",
    "    gambar_cluster = centroid[cluster].reshape(gambar.shape)\n",
    "    gambar_cluster = gambar_cluster.astype(np.uint8)\n",
    "    gambar_cluster = cv2.cvtColor(gambar_cluster, cv2.COLOR_LAB2BGR)\n",
    "\n",
    "    img_asli = Image.fromarray(cv2.cvtColor(gambar, cv2.COLOR_BGR2RGB))\n",
    "    img_cluster = Image.fromarray(cv2.cvtColor(gambar_cluster, cv2.COLOR_BGR2RGB))\n",
    "    img_asli.show()\n",
    "    img_cluster.show()"
   ]
  },
  {
   "cell_type": "markdown",
   "metadata": {},
   "source": [
    "# IMPLEMENTASI ELBOW"
   ]
  },
  {
   "cell_type": "code",
   "execution_count": 8,
   "metadata": {},
   "outputs": [],
   "source": [
    "def proses_elbow(gambar):\n",
    "   gambar = cv2.imread(gambar)\n",
    "   gambar_lab = cv2.cvtColor(gambar, cv2.COLOR_BGR2LAB)\n",
    "   data_gambar = gambar_lab.reshape((-1, 3))\n",
    "\n",
    "   elbow(data_gambar, 10)"
   ]
  },
  {
   "cell_type": "markdown",
   "metadata": {},
   "source": [
    "### TESTING ELBOW"
   ]
  },
  {
   "cell_type": "code",
   "execution_count": 21,
   "metadata": {},
   "outputs": [
    {
     "name": "stdout",
     "output_type": "stream",
     "text": [
      "K: 1, SSD: 224849920.09596962\n",
      "K: 2, SSD: 69179775.22064562\n",
      "K: 3, SSD: 25636658.24880672\n",
      "K: 4, SSD: 15366160.20387499\n",
      "K: 5, SSD: 10378183.279776894\n",
      "K: 6, SSD: 7982152.527434921\n",
      "K: 7, SSD: 7246577.336941315\n",
      "K: 8, SSD: 5767121.344937203\n",
      "K: 9, SSD: 5395638.068174796\n",
      "K: 10, SSD: 4513494.057059535\n"
     ]
    },
    {
     "data": {
      "image/png": "[encoded data removed]",
      "text/plain": [
       "<Figure size 640x480 with 1 Axes>"
      ]
     },
     "metadata": {},
     "output_type": "display_data"
    }
   ],
   "source": [
    "proses_elbow('r0_3.jpg')"
   ]
  },
  {
   "cell_type": "code",
   "execution_count": 10,
   "metadata": {},
   "outputs": [
    {
     "name": "stdout",
     "output_type": "stream",
     "text": [
      "[[255 128 128]\n",
      " [255 128 128]\n",
      " [255 128 128]\n",
      " ...\n",
      " [255 128 128]\n",
      " [255 128 128]\n",
      " [255 128 128]]\n"
     ]
    },
    {
     "ename": "KeyboardInterrupt",
     "evalue": "",
     "output_type": "error",
     "traceback": [
      "\u001b[1;31m---------------------------------------------------------------------------\u001b[0m",
      "\u001b[1;31mKeyboardInterrupt\u001b[0m                         Traceback (most recent call last)",
      "Cell \u001b[1;32mIn[10], line 1\u001b[0m\n\u001b[1;32m----> 1\u001b[0m \u001b[43mproses_gambar\u001b[49m\u001b[43m(\u001b[49m\u001b[38;5;124;43m'\u001b[39;49m\u001b[38;5;124;43mmiaw/test/r0_67.jpg\u001b[39;49m\u001b[38;5;124;43m'\u001b[39;49m\u001b[43m,\u001b[49m\u001b[43m \u001b[49m\u001b[38;5;241;43m5\u001b[39;49m\u001b[43m)\u001b[49m\n",
      "Cell \u001b[1;32mIn[9], line 7\u001b[0m, in \u001b[0;36mproses_gambar\u001b[1;34m(gambar, K)\u001b[0m\n\u001b[0;32m      4\u001b[0m data_gambar \u001b[38;5;241m=\u001b[39m gambar_lab\u001b[38;5;241m.\u001b[39mreshape((\u001b[38;5;241m-\u001b[39m\u001b[38;5;241m1\u001b[39m, \u001b[38;5;241m3\u001b[39m))\n\u001b[0;32m      5\u001b[0m \u001b[38;5;28mprint\u001b[39m(data_gambar)\n\u001b[1;32m----> 7\u001b[0m cluster, centroid \u001b[38;5;241m=\u001b[39m \u001b[43mkmeans\u001b[49m\u001b[43m(\u001b[49m\u001b[43mdata_gambar\u001b[49m\u001b[43m,\u001b[49m\u001b[43m \u001b[49m\u001b[43mK\u001b[49m\u001b[43m)\u001b[49m\n\u001b[0;32m      9\u001b[0m gambar_cluster \u001b[38;5;241m=\u001b[39m centroid[cluster]\u001b[38;5;241m.\u001b[39mreshape(gambar\u001b[38;5;241m.\u001b[39mshape)\n\u001b[0;32m     10\u001b[0m gambar_cluster \u001b[38;5;241m=\u001b[39m gambar_cluster\u001b[38;5;241m.\u001b[39mastype(np\u001b[38;5;241m.\u001b[39muint8)\n",
      "Cell \u001b[1;32mIn[3], line 20\u001b[0m, in \u001b[0;36mkmeans\u001b[1;34m(data_input, k, iter_max)\u001b[0m\n\u001b[0;32m     18\u001b[0m \u001b[38;5;28;01mfor\u001b[39;00m i \u001b[38;5;129;01min\u001b[39;00m \u001b[38;5;28mrange\u001b[39m(n_data):\n\u001b[0;32m     19\u001b[0m     \u001b[38;5;28;01mfor\u001b[39;00m j \u001b[38;5;129;01min\u001b[39;00m \u001b[38;5;28mrange\u001b[39m(k):\n\u001b[1;32m---> 20\u001b[0m         jarak[i][j] \u001b[38;5;241m=\u001b[39m \u001b[43meuclidian\u001b[49m\u001b[43m(\u001b[49m\u001b[43mdata_input\u001b[49m\u001b[43m[\u001b[49m\u001b[43mi\u001b[49m\u001b[43m]\u001b[49m\u001b[43m,\u001b[49m\u001b[43m \u001b[49m\u001b[43mcentroid\u001b[49m\u001b[43m[\u001b[49m\u001b[43mj\u001b[49m\u001b[43m]\u001b[49m\u001b[43m)\u001b[49m\n\u001b[0;32m     22\u001b[0m cluster_baru \u001b[38;5;241m=\u001b[39m [np\u001b[38;5;241m.\u001b[39margmin(jarak[i]) \u001b[38;5;28;01mfor\u001b[39;00m i \u001b[38;5;129;01min\u001b[39;00m \u001b[38;5;28mrange\u001b[39m(n_data)]\n\u001b[0;32m     23\u001b[0m cluster_tidak_berubah \u001b[38;5;241m=\u001b[39m np\u001b[38;5;241m.\u001b[39marray_equal(cluster_baru, cluster)\n",
      "Cell \u001b[1;32mIn[2], line 2\u001b[0m, in \u001b[0;36meuclidian\u001b[1;34m(data1, data2)\u001b[0m\n\u001b[0;32m      1\u001b[0m \u001b[38;5;28;01mdef\u001b[39;00m \u001b[38;5;21meuclidian\u001b[39m(data1, data2):\n\u001b[1;32m----> 2\u001b[0m   jarak \u001b[38;5;241m=\u001b[39m \u001b[43mnp\u001b[49m\u001b[38;5;241;43m.\u001b[39;49m\u001b[43msquare\u001b[49m\u001b[43m(\u001b[49m\u001b[43mdata1\u001b[49m\u001b[43m \u001b[49m\u001b[38;5;241;43m-\u001b[39;49m\u001b[43m \u001b[49m\u001b[43mdata2\u001b[49m\u001b[43m)\u001b[49m\n\u001b[0;32m      3\u001b[0m   jarak \u001b[38;5;241m=\u001b[39m np\u001b[38;5;241m.\u001b[39msum(jarak)\n\u001b[0;32m      4\u001b[0m   \u001b[38;5;28;01mreturn\u001b[39;00m np\u001b[38;5;241m.\u001b[39msqrt(jarak)\n",
      "\u001b[1;31mKeyboardInterrupt\u001b[0m: "
     ]
    }
   ],
   "source": [
    "proses_gambar('miaw/test/r0_67.jpg', 5)"
   ]
  },
  {
   "cell_type": "code",
   "execution_count": 10,
   "metadata": {},
   "outputs": [],
   "source": [
    "direktori_utama = 'miaw'\n",
    "\n",
    "# Buat direktori jika belum ada\n",
    "direktori_asli_10 = os.path.join(direktori_utama, 'asli_10')\n",
    "direktori_kluster_10 = os.path.join(direktori_utama, 'kluster_10')\n",
    "os.makedirs(direktori_asli_10, exist_ok=True)\n",
    "os.makedirs(direktori_kluster_10, exist_ok=True)\n",
    "\n",
    "# Loop melalui setiap direktori dalam direktori utama\n",
    "for direktori in os.listdir(direktori_utama):\n",
    "    path_direktori = os.path.join(direktori_utama, direktori)\n",
    "    if os.path.isdir(path_direktori):\n",
    "        # Loop melalui setiap file gambar dalam direktori\n",
    "        for file_gambar in glob.glob(os.path.join(path_direktori, '*.jpg')):\n",
    "            proses_gambar(file_gambar, direktori_asli_10, direktori_kluster_10, 10)"
   ]
  },
  {
   "cell_type": "code",
   "execution_count": null,
   "metadata": {},
   "outputs": [],
   "source": []
  }
 ],
 "metadata": {
  "kernelspec": {
   "display_name": "Python 3",
   "language": "python",
   "name": "python3"
  },
  "language_info": {
   "codemirror_mode": {
    "name": "ipython",
    "version": 3
   },
   "file_extension": ".py",
   "mimetype": "text/x-python",
   "name": "python",
   "nbconvert_exporter": "python",
   "pygments_lexer": "ipython3",
   "version": "3.11.9"
  }
 },
 "nbformat": 4,
 "nbformat_minor": 2
}
